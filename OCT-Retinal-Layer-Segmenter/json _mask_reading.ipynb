{
 "cells": [
  {
   "cell_type": "code",
   "execution_count": 51,
   "metadata": {},
   "outputs": [],
   "source": [
    "import json, os, glob\n",
    "from PIL import Image, ImageDraw\n",
    "import numpy as np\n",
    "from PIL.ImageColor import getrgb"
   ]
  },
  {
   "cell_type": "code",
   "execution_count": 52,
   "metadata": {},
   "outputs": [],
   "source": [
    "class_dict = {'NFL':13, 'GCL+IPL':5, 'INL':17, 'OPL':2,'ONL':22,'EllipsoidZone':9,'RPE':3}"
   ]
  },
  {
   "cell_type": "code",
   "execution_count": 53,
   "metadata": {},
   "outputs": [],
   "source": [
    "json_file = './labels.json'\n",
    "original_images = './trainingSet/origImages/'\n",
    "result_save = './trainingSet/maskImages/'"
   ]
  },
  {
   "cell_type": "code",
   "execution_count": 54,
   "metadata": {},
   "outputs": [],
   "source": [
    "all_labels = json.load(open(json_file))"
   ]
  },
  {
   "cell_type": "code",
   "execution_count": 55,
   "metadata": {},
   "outputs": [
    {
     "name": "stdout",
     "output_type": "stream",
     "text": [
      "dict_keys(['NORMAL1.jpeg', 'NORMAL10.jpeg', 'NORMAL11.jpeg', 'NORMAL12.jpeg', 'NORMAL13.jpeg', 'NORMAL14.jpeg', 'NORMAL15.jpeg', 'NORMAL16.jpeg', 'NORMAL17.jpeg'])\n",
      "dict_keys(['NORMAL1.jpeg', 'NORMAL10.jpeg', 'NORMAL11.jpeg', 'NORMAL12.jpeg', 'NORMAL13.jpeg', 'NORMAL14.jpeg', 'NORMAL15.jpeg', 'NORMAL16.jpeg', 'NORMAL17.jpeg'])\n"
     ]
    }
   ],
   "source": [
    "rawlist = all_labels.keys()\n",
    "print(rawlist)\n",
    "print(all_labels.keys())"
   ]
  },
  {
   "cell_type": "code",
   "execution_count": 56,
   "metadata": {},
   "outputs": [],
   "source": [
    "# def get_data(data, X,Y,L):\n",
    "def get_data(data):\n",
    "\n",
    "    X = []; Y = []; L=[] #pre-allocate lists to fill in a for loop\n",
    "    for k in data['regions']: #cycle through each polygon\n",
    "        # get the x and y points from the dictionary\n",
    "        X.append(data['regions'][k]['shape_attributes']['all_points_x'])\n",
    "        Y.append(data['regions'][k]['shape_attributes']['all_points_y'])\n",
    "        L.append(data['regions'][k]['region_attributes']['label'])\n",
    "    return Y,X,L #image coordinates are flipped relative to json coordinates"
   ]
  },
  {
   "cell_type": "code",
   "execution_count": 57,
   "metadata": {},
   "outputs": [],
   "source": [
    "def get_mask(X, Y, nx, ny, L, class_dict):\n",
    "    # get the dimensions of the image\n",
    "    mask = np.zeros((nx,ny))\n",
    "\n",
    "    for y,x,l in zip(X,Y,L):\n",
    "        # the ImageDraw.Draw().polygon function we will use to create the mask\n",
    "        # requires the x's and y's are interweaved, which is what the following\n",
    "        # one-liner does\n",
    "        polygon = np.vstack((x,y)).reshape((-1,),order='F').tolist()\n",
    "\n",
    "        # create a mask image of the right size and infill according to the polygon\n",
    "        size = (nx, ny)\n",
    "        if nx>ny:\n",
    "           x,y = y,x\n",
    "           img = Image.new(\"L\",  (nx, ny), 0)\n",
    "        elif ny>nx:\n",
    "           img = Image.new(\"L\", (ny,nx), 0)\n",
    "        else:\n",
    "           img = Image.new(\"L\", (nx, ny),  0)\n",
    "\n",
    "        ImageDraw.Draw(img).polygon(polygon, fill = 1, outline = 1)\n",
    "        # turn into a numpy array\n",
    "        m = np.flipud(np.rot90(np.array(img)))\n",
    "\n",
    "        try:\n",
    "            mask[m==1] = class_dict[l]\n",
    "        except:\n",
    "            mask[m.T==1] = class_dict[l]  \n",
    "\n",
    "         # mask[m==1] = class_dict[l]\n",
    "\n",
    "    return mask"
   ]
  },
  {
   "cell_type": "code",
   "execution_count": 58,
   "metadata": {},
   "outputs": [],
   "source": [
    "def rescale(dat,mn,mx):\n",
    "    '''\n",
    "    rescales an input dat between mn and mx\n",
    "    '''\n",
    "    m = min(dat.flatten())\n",
    "    M = max(dat.flatten())\n",
    "    return (mx-mn)*(dat-m)/(M-m)+mn"
   ]
  },
  {
   "cell_type": "code",
   "execution_count": 59,
   "metadata": {},
   "outputs": [],
   "source": [
    "for name in rawlist:\n",
    "    \n",
    "    new_path = original_images+name\n",
    "    image = Image.open(new_path)\n",
    "    nx, ny, nz = np.shape(image)\n",
    "    \n",
    "    X, Y, L = get_data(all_labels[name])\n",
    "\n",
    "    mask = get_mask(X, Y, nx, ny, L, class_dict)\n",
    "\n",
    "    mask = Image.fromarray(rescale(mask,0,255)).convert('RGB')\n",
    "    mask.save(result_save+name.replace('imagery','labels'), format='PNG')\n"
   ]
  },
  {
   "cell_type": "code",
   "execution_count": 60,
   "metadata": {},
   "outputs": [],
   "source": [
    "import cv2"
   ]
  },
  {
   "cell_type": "code",
   "execution_count": 61,
   "metadata": {},
   "outputs": [],
   "source": [
    "img = cv2.imread(result_save+'NORMAL1.jpeg')\n",
    "img = cv2.resize(img,(640,640), interpolation = cv2.INTER_NEAREST)"
   ]
  },
  {
   "cell_type": "code",
   "execution_count": 62,
   "metadata": {},
   "outputs": [
    {
     "name": "stderr",
     "output_type": "stream",
     "text": [
      "/Users/vkluzner/Private/git/DeepEye/deepeye/lib/python3.10/site-packages/sklearn/preprocessing/_label.py:114: DataConversionWarning: A column-vector y was passed when a 1d array was expected. Please change the shape of y to (n_samples, ), for example using ravel().\n",
      "  y = column_or_1d(y, warn=True)\n"
     ]
    },
    {
     "data": {
      "text/plain": [
       "array([0, 1, 2, 3, 4, 5, 6, 7])"
      ]
     },
     "execution_count": 62,
     "metadata": {},
     "output_type": "execute_result"
    }
   ],
   "source": [
    "from sklearn.preprocessing import LabelEncoder\n",
    "labelencoder = LabelEncoder()\n",
    "n, h, w = img.shape\n",
    "train_masks_reshaped = img.reshape(-1,1)\n",
    "train_masks_reshaped_encoded = labelencoder.fit_transform(train_masks_reshaped)\n",
    "train_masks_encoded_original_shape = train_masks_reshaped_encoded.reshape(n, h, w)\n",
    "\n",
    "np.unique(train_masks_encoded_original_shape)\n"
   ]
  },
  {
   "cell_type": "code",
   "execution_count": 63,
   "metadata": {},
   "outputs": [
    {
     "data": {
      "text/plain": [
       "array([0, 1, 2, 3, 4, 5, 6, 7])"
      ]
     },
     "execution_count": 63,
     "metadata": {},
     "output_type": "execute_result"
    }
   ],
   "source": [
    "\n",
    "train_masks_input = np.expand_dims(train_masks_encoded_original_shape, axis=3)\n",
    "np.unique(train_masks_input)"
   ]
  },
  {
   "cell_type": "code",
   "execution_count": 64,
   "metadata": {},
   "outputs": [
    {
     "data": {
      "text/plain": [
       "array([  0,  23,  34,  57, 104, 150, 197, 255], dtype=uint8)"
      ]
     },
     "execution_count": 64,
     "metadata": {},
     "output_type": "execute_result"
    }
   ],
   "source": [
    "np.unique(img)"
   ]
  },
  {
   "cell_type": "code",
   "execution_count": 65,
   "metadata": {},
   "outputs": [],
   "source": [
    "#Capture mask/label info as a list\n",
    "train_masks = [] \n",
    "for directory_path in glob.glob(result_save):\n",
    "    for mask_path in glob.glob(os.path.join(directory_path, \"*.jpeg\")):\n",
    "        mask = cv2.imread(mask_path, 0)       \n",
    "        mask = cv2.resize(mask, (640,640), interpolation = cv2.INTER_NEAREST)  #Otherwise ground truth changes due to interpolation\n",
    "        train_masks.append(mask)\n",
    "        \n",
    "#Convert list to array for machine learning processing          \n",
    "train_masks = np.array(train_masks)"
   ]
  },
  {
   "cell_type": "code",
   "execution_count": 66,
   "metadata": {},
   "outputs": [
    {
     "name": "stdout",
     "output_type": "stream",
     "text": [
      "[  0  23  34  57 104 150 197 255]   label0\n",
      "[  0  23  34  57 104 150 197 255]   label1\n",
      "[  0  23  34  57 104 150 197 255]   label2\n",
      "[  0  23  34  57 104 150 197 255]   label3\n",
      "[  0  23  34  57 104 150 197 255]   label4\n",
      "[  0  23  34  57 104 150 197 255]   label5\n",
      "[  0  23  34  57 104 150 197 255]   label6\n",
      "[  0  23  34  57 104 150 197 255]   label7\n",
      "[  0  23  34  57 104 150 197 255]   label8\n"
     ]
    }
   ],
   "source": [
    "for i in range(100):\n",
    "    print(np.unique(train_masks[i]),'  label'+str(i))\n"
   ]
  },
  {
   "cell_type": "code",
   "execution_count": 67,
   "metadata": {},
   "outputs": [
    {
     "data": {
      "text/plain": [
       "<matplotlib.image.AxesImage at 0x2b7dab700>"
      ]
     },
     "execution_count": 67,
     "metadata": {},
     "output_type": "execute_result"
    },
    {
     "data": {
      "image/png": "[encoded data removed]",
      "text/plain": [
       "<Figure size 640x480 with 1 Axes>"
      ]
     },
     "metadata": {},
     "output_type": "display_data"
    }
   ],
   "source": [
    "from matplotlib import pyplot as plt\n",
    "\n",
    "plt.imshow(train_masks[1])"
   ]
  },
  {
   "cell_type": "code",
   "execution_count": 68,
   "metadata": {},
   "outputs": [
    {
     "data": {
      "text/plain": [
       "<matplotlib.image.AxesImage at 0x2b7d98100>"
      ]
     },
     "execution_count": 68,
     "metadata": {},
     "output_type": "execute_result"
    },
    {
     "data": {
      "image/png": "[encoded data removed]",
      "text/plain": [
       "<Figure size 640x480 with 1 Axes>"
      ]
     },
     "metadata": {},
     "output_type": "display_data"
    }
   ],
   "source": [
    "from matplotlib import pyplot as plt\n",
    "\n",
    "plt.imshow(train_masks[3])"
   ]
  }
 ],
 "metadata": {
  "kernelspec": {
   "display_name": "Python 3",
   "language": "python",
   "name": "python3"
  },
  "language_info": {
   "codemirror_mode": {
    "name": "ipython",
    "version": 3
   },
   "file_extension": ".py",
   "mimetype": "text/x-python",
   "name": "python",
   "nbconvert_exporter": "python",
   "pygments_lexer": "ipython3",
   "version": "3.10.9"
  },
  "orig_nbformat": 4,
  "vscode": {
   "interpreter": {
    "hash": "cf92aa13fedf815d5c8dd192b8d835913fde3e8bc926b2a0ad6cc74ef2ba3ca2"
   }
  }
 },
 "nbformat": 4,
 "nbformat_minor": 2
}
