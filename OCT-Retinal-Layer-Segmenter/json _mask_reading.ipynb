{
 "cells": [
  {
   "cell_type": "code",
   "execution_count": 1,
   "metadata": {},
   "outputs": [],
   "source": [
    "import json, os, glob\n",
    "from PIL import Image, ImageDraw\n",
    "import numpy as np\n",
    "from PIL.ImageColor import getrgb"
   ]
  },
  {
   "cell_type": "code",
   "execution_count": 13,
   "metadata": {},
   "outputs": [],
   "source": [
    "class_dict = {'NFL':13, 'GCL+IPL':5, 'INL':17, 'OPL':2,'ONL':22,'EZ':9,'RPE':3, 'CHR':15}"
   ]
  },
  {
   "cell_type": "code",
   "execution_count": 2,
   "metadata": {},
   "outputs": [],
   "source": [
    "json_file = './labels.json'\n",
    "original_images = './trainingSet/origImages/'\n",
    "result_save = './trainingSet/maskImages/'"
   ]
  },
  {
   "cell_type": "code",
   "execution_count": 3,
   "metadata": {},
   "outputs": [],
   "source": [
    "all_labels = json.load(open(json_file))"
   ]
  },
  {
   "cell_type": "code",
   "execution_count": 4,
   "metadata": {},
   "outputs": [
    {
     "name": "stdout",
     "output_type": "stream",
     "text": [
      "dict_keys(['NORMAL1.jpeg', 'NORMAL10.jpeg', 'NORMAL100.jpeg', 'NORMAL101.jpeg', 'NORMAL102.jpeg', 'NORMAL103.jpeg', 'NORMAL104.jpeg', 'NORMAL105.jpeg', 'NORMAL106.jpeg', 'NORMAL107.jpeg', 'NORMAL108.jpeg', 'NORMAL109.jpeg', 'NORMAL11.jpeg', 'NORMAL110.jpeg', 'NORMAL111.jpeg', 'NORMAL112.jpeg', 'NORMAL113.jpeg', 'NORMAL114.jpeg', 'NORMAL115.jpeg', 'NORMAL116.jpeg', 'NORMAL117.jpeg', 'NORMAL118.jpeg', 'NORMAL119.jpeg', 'NORMAL12.jpeg', 'NORMAL120.jpeg', 'NORMAL121.jpeg', 'NORMAL122.jpeg', 'NORMAL123.jpeg', 'NORMAL124.jpeg', 'NORMAL125.jpeg', 'NORMAL126.jpeg', 'NORMAL127.jpeg', 'NORMAL128.jpeg', 'NORMAL129.jpeg', 'NORMAL13.jpeg', 'NORMAL130.jpeg', 'NORMAL131.jpeg', 'NORMAL132.jpeg', 'NORMAL133.jpeg', 'NORMAL134.jpeg', 'NORMAL135.jpeg', 'NORMAL136.jpeg', 'NORMAL137.jpeg', 'NORMAL138.jpeg', 'NORMAL139.jpeg', 'NORMAL14.jpeg', 'NORMAL140.jpeg', 'NORMAL141.jpeg', 'NORMAL142.jpeg', 'NORMAL143.jpeg', 'NORMAL144.jpeg', 'NORMAL145.jpeg', 'NORMAL146.jpeg', 'NORMAL147.jpeg', 'NORMAL148.jpeg', 'NORMAL149.jpeg', 'NORMAL15.jpeg', 'NORMAL150.jpeg', 'NORMAL151.jpeg', 'NORMAL152.jpeg', 'NORMAL153.jpeg', 'NORMAL154.jpeg', 'NORMAL155.jpeg', 'NORMAL156.jpeg', 'NORMAL157.jpeg', 'NORMAL158.jpeg', 'NORMAL159.jpeg', 'NORMAL16.jpeg', 'NORMAL160.jpeg', 'NORMAL161.jpeg', 'NORMAL162.jpeg', 'NORMAL163.jpeg', 'NORMAL164.jpeg', 'NORMAL165.jpeg', 'NORMAL166.jpeg', 'NORMAL167.jpeg', 'NORMAL168.jpeg', 'NORMAL169.jpeg', 'NORMAL17.jpeg', 'NORMAL170.jpeg', 'NORMAL171.jpeg', 'NORMAL172.jpeg', 'NORMAL173.jpeg', 'NORMAL174.jpeg', 'NORMAL175.jpeg', 'NORMAL176.jpeg', 'NORMAL177.jpeg', 'NORMAL178.jpeg', 'NORMAL179.jpeg', 'NORMAL18.jpeg', 'NORMAL180.jpeg', 'NORMAL181.jpeg', 'NORMAL182.jpeg', 'NORMAL183.jpeg', 'NORMAL184.jpeg', 'NORMAL185.jpeg', 'NORMAL186.jpeg', 'NORMAL187.jpeg', 'NORMAL188.jpeg', 'NORMAL189.jpeg'])\n",
      "dict_keys(['NORMAL1.jpeg', 'NORMAL10.jpeg', 'NORMAL100.jpeg', 'NORMAL101.jpeg', 'NORMAL102.jpeg', 'NORMAL103.jpeg', 'NORMAL104.jpeg', 'NORMAL105.jpeg', 'NORMAL106.jpeg', 'NORMAL107.jpeg', 'NORMAL108.jpeg', 'NORMAL109.jpeg', 'NORMAL11.jpeg', 'NORMAL110.jpeg', 'NORMAL111.jpeg', 'NORMAL112.jpeg', 'NORMAL113.jpeg', 'NORMAL114.jpeg', 'NORMAL115.jpeg', 'NORMAL116.jpeg', 'NORMAL117.jpeg', 'NORMAL118.jpeg', 'NORMAL119.jpeg', 'NORMAL12.jpeg', 'NORMAL120.jpeg', 'NORMAL121.jpeg', 'NORMAL122.jpeg', 'NORMAL123.jpeg', 'NORMAL124.jpeg', 'NORMAL125.jpeg', 'NORMAL126.jpeg', 'NORMAL127.jpeg', 'NORMAL128.jpeg', 'NORMAL129.jpeg', 'NORMAL13.jpeg', 'NORMAL130.jpeg', 'NORMAL131.jpeg', 'NORMAL132.jpeg', 'NORMAL133.jpeg', 'NORMAL134.jpeg', 'NORMAL135.jpeg', 'NORMAL136.jpeg', 'NORMAL137.jpeg', 'NORMAL138.jpeg', 'NORMAL139.jpeg', 'NORMAL14.jpeg', 'NORMAL140.jpeg', 'NORMAL141.jpeg', 'NORMAL142.jpeg', 'NORMAL143.jpeg', 'NORMAL144.jpeg', 'NORMAL145.jpeg', 'NORMAL146.jpeg', 'NORMAL147.jpeg', 'NORMAL148.jpeg', 'NORMAL149.jpeg', 'NORMAL15.jpeg', 'NORMAL150.jpeg', 'NORMAL151.jpeg', 'NORMAL152.jpeg', 'NORMAL153.jpeg', 'NORMAL154.jpeg', 'NORMAL155.jpeg', 'NORMAL156.jpeg', 'NORMAL157.jpeg', 'NORMAL158.jpeg', 'NORMAL159.jpeg', 'NORMAL16.jpeg', 'NORMAL160.jpeg', 'NORMAL161.jpeg', 'NORMAL162.jpeg', 'NORMAL163.jpeg', 'NORMAL164.jpeg', 'NORMAL165.jpeg', 'NORMAL166.jpeg', 'NORMAL167.jpeg', 'NORMAL168.jpeg', 'NORMAL169.jpeg', 'NORMAL17.jpeg', 'NORMAL170.jpeg', 'NORMAL171.jpeg', 'NORMAL172.jpeg', 'NORMAL173.jpeg', 'NORMAL174.jpeg', 'NORMAL175.jpeg', 'NORMAL176.jpeg', 'NORMAL177.jpeg', 'NORMAL178.jpeg', 'NORMAL179.jpeg', 'NORMAL18.jpeg', 'NORMAL180.jpeg', 'NORMAL181.jpeg', 'NORMAL182.jpeg', 'NORMAL183.jpeg', 'NORMAL184.jpeg', 'NORMAL185.jpeg', 'NORMAL186.jpeg', 'NORMAL187.jpeg', 'NORMAL188.jpeg', 'NORMAL189.jpeg'])\n"
     ]
    }
   ],
   "source": [
    "rawlist = all_labels.keys()\n",
    "print(rawlist)\n",
    "print(all_labels.keys())"
   ]
  },
  {
   "cell_type": "code",
   "execution_count": 5,
   "metadata": {},
   "outputs": [],
   "source": [
    "# def get_data(data, X,Y,L):\n",
    "def get_data(data):\n",
    "\n",
    "    X = []; Y = []; L=[] #pre-allocate lists to fill in a for loop\n",
    "    for k in data['regions']: #cycle through each polygon\n",
    "        # get the x and y points from the dictionary\n",
    "        X.append(data['regions'][k]['shape_attributes']['all_points_x'])\n",
    "        Y.append(data['regions'][k]['shape_attributes']['all_points_y'])\n",
    "        L.append(data['regions'][k]['region_attributes']['label'])\n",
    "    return Y,X,L #image coordinates are flipped relative to json coordinates"
   ]
  },
  {
   "cell_type": "code",
   "execution_count": 14,
   "metadata": {},
   "outputs": [],
   "source": [
    "def get_mask(X, Y, nx, ny, L, class_dict):\n",
    "    # get the dimensions of the image\n",
    "    mask = np.zeros((nx,ny))\n",
    "\n",
    "    for y,x,l in zip(X,Y,L):\n",
    "        # the ImageDraw.Draw().polygon function we will use to create the mask\n",
    "        # requires the x's and y's are interweaved, which is what the following\n",
    "        # one-liner does\n",
    "        polygon = np.vstack((x,y)).reshape((-1,),order='F').tolist()\n",
    "\n",
    "        # create a mask image of the right size and infill according to the polygon\n",
    "        size = (nx, ny)\n",
    "        if nx>ny:\n",
    "           x,y = y,x\n",
    "           img = Image.new(\"L\",  (nx, ny), 0)\n",
    "        elif ny>nx:\n",
    "           img = Image.new(\"L\", (ny,nx), 0)\n",
    "        else:\n",
    "           img = Image.new(\"L\", (nx, ny),  0)\n",
    "\n",
    "        ImageDraw.Draw(img).polygon(polygon, fill = 1, outline = 1)\n",
    "        # turn into a numpy array\n",
    "        m = np.flipud(np.rot90(np.array(img)))\n",
    "\n",
    "        try:\n",
    "            mask[m==1] = class_dict[l]\n",
    "        except:\n",
    "            mask[m.T==1] = class_dict[l]  \n",
    "\n",
    "         # mask[m==1] = class_dict[l]\n",
    "\n",
    "    return mask"
   ]
  },
  {
   "cell_type": "code",
   "execution_count": 7,
   "metadata": {},
   "outputs": [],
   "source": [
    "def rescale(dat,mn,mx):\n",
    "    '''\n",
    "    rescales an input dat between mn and mx\n",
    "    '''\n",
    "    m = min(dat.flatten())\n",
    "    M = max(dat.flatten())\n",
    "    return (mx-mn)*(dat-m)/(M-m)+mn"
   ]
  },
  {
   "cell_type": "code",
   "execution_count": 15,
   "metadata": {},
   "outputs": [],
   "source": [
    "for name in rawlist:\n",
    "    \n",
    "    new_path = original_images+name\n",
    "    image = Image.open(new_path)\n",
    "    nx, ny, nz = np.shape(image)\n",
    "    \n",
    "    X, Y, L = get_data(all_labels[name])\n",
    "\n",
    "    mask = get_mask(X, Y, nx, ny, L, class_dict)\n",
    "\n",
    "    mask = Image.fromarray(rescale(mask,0,255)).convert('RGB')\n",
    "    mask.save(result_save+name.replace('imagery','labels'), format='PNG')\n"
   ]
  },
  {
   "cell_type": "code",
   "execution_count": 16,
   "metadata": {},
   "outputs": [],
   "source": [
    "import cv2"
   ]
  },
  {
   "cell_type": "code",
   "execution_count": 17,
   "metadata": {},
   "outputs": [],
   "source": [
    "img = cv2.imread(result_save+'NORMAL1.jpeg')\n",
    "img = cv2.resize(img,(640,640), interpolation = cv2.INTER_NEAREST)"
   ]
  },
  {
   "cell_type": "code",
   "execution_count": 18,
   "metadata": {},
   "outputs": [
    {
     "name": "stderr",
     "output_type": "stream",
     "text": [
      "/Users/vkluzner/Private/git/DeepEye/deepeye/lib/python3.10/site-packages/sklearn/preprocessing/_label.py:114: DataConversionWarning: A column-vector y was passed when a 1d array was expected. Please change the shape of y to (n_samples, ), for example using ravel().\n",
      "  y = column_or_1d(y, warn=True)\n"
     ]
    },
    {
     "data": {
      "text/plain": [
       "array([0, 1, 2, 3, 4, 5, 6, 7, 8])"
      ]
     },
     "execution_count": 18,
     "metadata": {},
     "output_type": "execute_result"
    }
   ],
   "source": [
    "from sklearn.preprocessing import LabelEncoder\n",
    "labelencoder = LabelEncoder()\n",
    "n, h, w = img.shape\n",
    "train_masks_reshaped = img.reshape(-1,1)\n",
    "train_masks_reshaped_encoded = labelencoder.fit_transform(train_masks_reshaped)\n",
    "train_masks_encoded_original_shape = train_masks_reshaped_encoded.reshape(n, h, w)\n",
    "\n",
    "np.unique(train_masks_encoded_original_shape)\n"
   ]
  },
  {
   "cell_type": "code",
   "execution_count": 19,
   "metadata": {},
   "outputs": [
    {
     "data": {
      "text/plain": [
       "array([0, 1, 2, 3, 4, 5, 6, 7, 8])"
      ]
     },
     "execution_count": 19,
     "metadata": {},
     "output_type": "execute_result"
    }
   ],
   "source": [
    "\n",
    "train_masks_input = np.expand_dims(train_masks_encoded_original_shape, axis=3)\n",
    "np.unique(train_masks_input)"
   ]
  },
  {
   "cell_type": "code",
   "execution_count": 20,
   "metadata": {},
   "outputs": [
    {
     "data": {
      "text/plain": [
       "array([  0,  11,  23,  34,  57, 104, 150, 197, 255], dtype=uint8)"
      ]
     },
     "execution_count": 20,
     "metadata": {},
     "output_type": "execute_result"
    }
   ],
   "source": [
    "np.unique(img)"
   ]
  },
  {
   "cell_type": "code",
   "execution_count": 21,
   "metadata": {},
   "outputs": [],
   "source": [
    "#Capture mask/label info as a list\n",
    "train_masks = [] \n",
    "for directory_path in glob.glob(result_save):\n",
    "    for mask_path in glob.glob(os.path.join(directory_path, \"*.jpeg\")):\n",
    "        mask = cv2.imread(mask_path, 0)       \n",
    "        mask = cv2.resize(mask, (640,640), interpolation = cv2.INTER_NEAREST)  #Otherwise ground truth changes due to interpolation\n",
    "        train_masks.append(mask)\n",
    "        \n",
    "#Convert list to array for machine learning processing          \n",
    "train_masks = np.array(train_masks)"
   ]
  },
  {
   "cell_type": "code",
   "execution_count": 22,
   "metadata": {},
   "outputs": [
    {
     "name": "stdout",
     "output_type": "stream",
     "text": [
      "[  0  11  23  34  57 104 150 197 255]   label0\n",
      "[  0  11  23  34  57 104 150 197 255]   label1\n",
      "[  0  11  23  34  57 104 150 197 255]   label2\n",
      "[  0  11  23  34  57 104 150 197 255]   label3\n",
      "[  0  11  23  34  57 104 150 197 255]   label4\n",
      "[  0  11  23  34  57 104 150 197 255]   label5\n",
      "[  0  11  23  34  57 104 150 197 255]   label6\n",
      "[  0  23  34  57 104 150 197 255]   label7\n",
      "[  0  11  23  34  57 104 150 197 255]   label8\n",
      "[  0  11  23  34  57 104 150 197 255]   label9\n",
      "[  0  11  23  34  57 104 150 197 255]   label10\n",
      "[  0  11  23  34  57 104 150 197 255]   label11\n",
      "[  0  11  23  34  57 104 150 197 255]   label12\n",
      "[  0  11  23  34  57 104 150 197 255]   label13\n",
      "[  0  11  23  34  57 104 150 197 255]   label14\n",
      "[  0  11  23  34  57 104 150 197 255]   label15\n",
      "[  0  11  23  34  57 104 150 197 255]   label16\n",
      "[  0  11  23  34  57 104 150 197 255]   label17\n",
      "[  0  11  23  34  57 104 150 197 255]   label18\n",
      "[  0  11  23  34  57 104 150 197 255]   label19\n",
      "[  0  11  23  34  57 104 150 197 255]   label20\n",
      "[  0  11  23  34  57 104 150 197 255]   label21\n",
      "[  0  11  23  34  57 104 150 197 255]   label22\n",
      "[  0  11  23  34  57 104 150 197 255]   label23\n",
      "[  0  11  23  34  57 104 150 197 255]   label24\n",
      "[  0  11  23  34  57 104 150 197 255]   label25\n",
      "[  0  11  23  34  57 104 150 197 255]   label26\n",
      "[  0  11  23  34  57 104 150 197 255]   label27\n",
      "[  0  11  23  34  57 104 150 197 255]   label28\n",
      "[  0  11  23  34  57 104 150 197 255]   label29\n",
      "[  0  11  23  34  57 104 150 197 255]   label30\n",
      "[  0  11  23  34  57 104 150 197 255]   label31\n",
      "[  0  11  23  34  57 104 150 197 255]   label32\n",
      "[  0  11  23  34  57 104 150 197 255]   label33\n",
      "[  0  11  23  34  57 104 150 197 255]   label34\n",
      "[  0  11  23  34  57 104 150 197 255]   label35\n",
      "[  0  15  30  45  75 135 195 255]   label36\n",
      "[  0  11  23  34  57 104 150 197 255]   label37\n",
      "[  0  11  23  34  57 104 150 197 255]   label38\n",
      "[  0  11  23  34  57 104 150 197 255]   label39\n",
      "[  0  11  23  34  57 104 150 197 255]   label40\n",
      "[  0  11  23  34  57 104 150 197 255]   label41\n",
      "[  0  11  23  34  57 104 150 197 255]   label42\n",
      "[  0  11  23  34  57 104 150 197 255]   label43\n",
      "[  0  11  23  34  57 104 150 197 255]   label44\n",
      "[  0  11  23  34  57 104 150 197 255]   label45\n",
      "[  0  11  23  34  57 104 150 197 255]   label46\n",
      "[  0  11  23  34  57 104 150 197 255]   label47\n",
      "[  0  11  23  34  57 104 150 197 255]   label48\n",
      "[  0  11  23  34  57 104 150 197 255]   label49\n",
      "[  0  11  23  34  57 104 150 197 255]   label50\n",
      "[  0  11  23  34  57 104 150 197 255]   label51\n",
      "[  0  11  23  34  57 104 150 197 255]   label52\n",
      "[  0  11  23  34  57 104 150 197 255]   label53\n",
      "[  0  11  23  34  57 104 150 197 255]   label54\n",
      "[  0  11  23  34  57 104 150 197 255]   label55\n",
      "[  0  11  23  34  57 104 197 255]   label56\n",
      "[  0  11  23  34  57 104 150 197 255]   label57\n",
      "[  0  11  23  34  57 104 150 197 255]   label58\n",
      "[  0  23  34  57 104 150 197 255]   label59\n",
      "[  0  23  34  57 104 150 197 255]   label60\n",
      "[  0  11  23  34  57 104 150 197 255]   label61\n",
      "[  0  11  23  34  57 104 150 197 255]   label62\n",
      "[  0  11  23  34  57 104 150 197 255]   label63\n",
      "[  0  11  23  34  57 104 150 197 255]   label64\n",
      "[  0  11  23  34  57 104 150 197 255]   label65\n",
      "[  0  11  23  34  57 104 150 197 255]   label66\n",
      "[  0  11  23  34  57 104 150 197 255]   label67\n",
      "[  0  11  23  34  57 104 150 197 255]   label68\n",
      "[  0  11  23  34  57 104 150 197 255]   label69\n",
      "[  0  11  23  34  57 104 150 197 255]   label70\n",
      "[  0  11  23  34  57 104 150 197 255]   label71\n",
      "[  0  11  23  34  57 104 150 197 255]   label72\n",
      "[  0  11  23  34  57 104 197 255]   label73\n",
      "[  0  11  23  34  57 104 150 197 255]   label74\n",
      "[  0  11  23  34  57 104 150 197 255]   label75\n",
      "[  0  11  23  34  57 104 150 197 255]   label76\n",
      "[  0  11  23  34  57 104 150 197 255]   label77\n",
      "[  0  11  23  57 104 150 197 255]   label78\n",
      "[  0  11  23  34  57 104 150 197 255]   label79\n",
      "[  0  11  23  34  57 104 150 197 255]   label80\n",
      "[  0  11  23  34  57 104 150 197 255]   label81\n",
      "[  0  11  23  34  57 104 150 197 255]   label82\n",
      "[  0  11  23  34  57 104 150 197 255]   label83\n",
      "[  0  11  23  34  57 104 150 197 255]   label84\n",
      "[  0  11  23  34  57 104 150 197 255]   label85\n",
      "[  0  11  23  34  57 104 150 197 255]   label86\n",
      "[  0  11  23  34  57 104 150 197 255]   label87\n",
      "[  0  11  23  34  57 104 150 197 255]   label88\n",
      "[  0  11  23  34  57 104 150 197 255]   label89\n",
      "[  0  11  23  34  57 104 150 197 255]   label90\n",
      "[  0  11  23  34  57 104 150 197 255]   label91\n",
      "[  0  11  23  34  57 104 150 197 255]   label92\n",
      "[  0  11  23  34  57 104 150 197 255]   label93\n",
      "[  0  11  23  34  57 104 150 197 255]   label94\n",
      "[  0  11  23  34  57 104 150 197 255]   label95\n",
      "[  0  11  23  34  57 104 150 197 255]   label96\n",
      "[  0  11  23  34  57 104 150 197 255]   label97\n",
      "[  0  11  23  34  57 104 197 255]   label98\n",
      "[  0  11  23  34  57 104 150 197 255]   label99\n"
     ]
    }
   ],
   "source": [
    "for i in range(100):\n",
    "    print(np.unique(train_masks[i]),'  label'+str(i))\n"
   ]
  },
  {
   "cell_type": "code",
   "execution_count": 23,
   "metadata": {},
   "outputs": [
    {
     "data": {
      "text/plain": [
       "<matplotlib.image.AxesImage at 0x2ba671870>"
      ]
     },
     "execution_count": 23,
     "metadata": {},
     "output_type": "execute_result"
    },
    {
     "data": {
      "image/png": "[encoded data removed]",
      "text/plain": [
       "<Figure size 640x480 with 1 Axes>"
      ]
     },
     "metadata": {},
     "output_type": "display_data"
    }
   ],
   "source": [
    "from matplotlib import pyplot as plt\n",
    "\n",
    "plt.imshow(train_masks[1])"
   ]
  },
  {
   "cell_type": "code",
   "execution_count": 68,
   "metadata": {},
   "outputs": [
    {
     "data": {
      "text/plain": [
       "<matplotlib.image.AxesImage at 0x2b7d98100>"
      ]
     },
     "execution_count": 68,
     "metadata": {},
     "output_type": "execute_result"
    },
    {
     "data": {
      "image/png": "[encoded data removed]",
      "text/plain": [
       "<Figure size 640x480 with 1 Axes>"
      ]
     },
     "metadata": {},
     "output_type": "display_data"
    }
   ],
   "source": [
    "from matplotlib import pyplot as plt\n",
    "\n",
    "plt.imshow(train_masks[3])"
   ]
  }
 ],
 "metadata": {
  "kernelspec": {
   "display_name": "Python 3",
   "language": "python",
   "name": "python3"
  },
  "language_info": {
   "codemirror_mode": {
    "name": "ipython",
    "version": 3
   },
   "file_extension": ".py",
   "mimetype": "text/x-python",
   "name": "python",
   "nbconvert_exporter": "python",
   "pygments_lexer": "ipython3",
   "version": "3.10.9"
  },
  "orig_nbformat": 4,
  "vscode": {
   "interpreter": {
    "hash": "cf92aa13fedf815d5c8dd192b8d835913fde3e8bc926b2a0ad6cc74ef2ba3ca2"
   }
  }
 },
 "nbformat": 4,
 "nbformat_minor": 2
}
