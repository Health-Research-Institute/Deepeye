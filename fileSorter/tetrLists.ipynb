{
 "cells": [
  {
   "cell_type": "code",
   "execution_count": 22,
   "metadata": {},
   "outputs": [],
   "source": [
    "import os\n",
    "import numpy as np\n",
    "import pandas as pd\n",
    "from torch.utils.data import random_split\n",
    "\n",
    "classNames = ['AMD','CSR','DR','MH','NORMAL']\n",
    "nClasses = len(classNames)\n",
    "nTrain = 40\n",
    "\n",
    "dfTrain = pd.DataFrame(columns=['# Images', 'Names'])\n",
    "dfTest =  pd.DataFrame(columns=['# Images', 'Names'])\n",
    "\n",
    "for nClass in classNames:\n",
    "    imagesPathRead = '../../Images/CT_RETINA/' + nClass + '/All'\n",
    "\n",
    "    file_names = os.listdir(imagesPathRead)\n",
    "    nFiles = len(file_names)\n",
    "    indArray = np.arange(0, nFiles)\n",
    "\n",
    "    if nClass == 'NORMAL':\n",
    "        train_set, test_set = random_split(indArray, [3*nTrain, nFiles-3*nTrain])\n",
    "    else: \n",
    "        train_set, test_set = random_split(indArray, [nTrain, nFiles-nTrain])\n",
    "\n",
    "    trainInd = np.sort(train_set).tolist()\n",
    "    testInd = np.sort(test_set).tolist()\n",
    "\n",
    "    namesTr = [file_names[i] for i in trainInd]\n",
    "    namesTe = [file_names[i] for i in testInd]\n",
    "\n",
    "    dfTrain = pd.concat([dfTrain, pd.DataFrame.from_records([{'# Images': len(namesTr), 'Names': namesTr}])], ignore_index=True)\n",
    "    dfTest  = pd.concat([dfTest, pd.DataFrame.from_records([{'# Images': len(namesTe), 'Names': namesTe}])], ignore_index=True)\n",
    "       \n",
    "    dfTrain.to_csv('train_indices.csv', index=False)\n",
    "    dfTest.to_csv('test_indices.csv', index=False)\n",
    "\n",
    "\n",
    " \n",
    " "
   ]
  },
  {
   "cell_type": "code",
   "execution_count": null,
   "metadata": {},
   "outputs": [],
   "source": []
  }
 ],
 "metadata": {
  "kernelspec": {
   "display_name": "tensorflow",
   "language": "python",
   "name": "python3"
  },
  "language_info": {
   "codemirror_mode": {
    "name": "ipython",
    "version": 3
   },
   "file_extension": ".py",
   "mimetype": "text/x-python",
   "name": "python",
   "nbconvert_exporter": "python",
   "pygments_lexer": "ipython3",
   "version": "3.9.13"
  },
  "orig_nbformat": 4
 },
 "nbformat": 4,
 "nbformat_minor": 2
}
