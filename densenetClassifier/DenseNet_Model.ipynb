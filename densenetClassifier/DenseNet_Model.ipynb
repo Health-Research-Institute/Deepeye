{
 "cells": [
  {
   "attachments": {},
   "cell_type": "markdown",
   "id": "54872852",
   "metadata": {},
   "source": [
    "# DenseNet Model Implementation"
   ]
  },
  {
   "cell_type": "code",
   "execution_count": 1,
   "id": "ff0adc47",
   "metadata": {},
   "outputs": [
    {
     "data": {
      "text/plain": [
       "True"
      ]
     },
     "execution_count": 1,
     "metadata": {},
     "output_type": "execute_result"
    }
   ],
   "source": [
    "import os\n",
    "import glob\n",
    "import cv2\n",
    "import math\n",
    "import numpy as np\n",
    "#import pandas as pd\n",
    "#import matplotlib.pyplot as plt\n",
    "import torch\n",
    "from torch.utils.data import Dataset\n",
    "from torch.utils.data import Subset\n",
    "from torch.utils.data import random_split\n",
    "import torch.nn as nn\n",
    "import torch.optim as optim\n",
    "import torchvision\n",
    "from torchvision import transforms\n",
    "#import sklearn\n",
    "#from PIL import Image\n",
    "import zipfile\n",
    "#import urllib.request\n",
    "import os.path\n",
    "#from IPython.display import display\n",
    "import dotenv\n",
    "dotenv.load_dotenv()"
   ]
  },
  {
   "attachments": {},
   "cell_type": "markdown",
   "id": "1dc7f68b",
   "metadata": {},
   "source": [
    "# Set GPU access"
   ]
  },
  {
   "cell_type": "code",
   "execution_count": 2,
   "id": "eb7c9c1d",
   "metadata": {},
   "outputs": [
    {
     "name": "stdout",
     "output_type": "stream",
     "text": [
      "CUDA is available!\n",
      "Using device: cuda\n"
     ]
    }
   ],
   "source": [
    "if torch.backends.mps.is_available(): # Check if PyTorch has access to MPS (Metal Performance Shader, Apple's GPU architecture)\n",
    "    print(f\"MPS is available!\")\n",
    "    if torch.backends.mps.is_built():\n",
    "        print(f\"MPS (Metal Performance Shader) is built in!\")    \n",
    "    device = \"mps\"\n",
    "elif torch.cuda.is_available():\n",
    "    print(f\"CUDA is available!\")\n",
    "    device = \"cuda\"\n",
    "else:\n",
    "    print(f\"Only CPU is available!\")\n",
    "    device = \"cpu\"\n",
    "print(f\"Using device: {device}\")"
   ]
  },
  {
   "attachments": {},
   "cell_type": "markdown",
   "id": "a449a607",
   "metadata": {},
   "source": [
    "# Helper functions"
   ]
  },
  {
   "cell_type": "code",
   "execution_count": 3,
   "id": "fd75af87",
   "metadata": {},
   "outputs": [],
   "source": [
    "def create_image_stack(images, labels, nImLevelsData):\n",
    "    \n",
    "    image_count = len(images) // nImLevelsData  \n",
    "\n",
    "    stacked_data = []\n",
    "    stacked_labels = []\n",
    "\n",
    "    normalize = transforms.Normalize([0.485], [0.229]) \n",
    "\n",
    "    for i in range(image_count):\n",
    "        start_index = i * nImLevelsData\n",
    "        end_index = start_index + nImLevelsData\n",
    "\n",
    "        single_stack = images[start_index+1:end_index] # only 8 images without background image\n",
    "\n",
    "        image_stack = np.stack([normalize(torch.from_numpy(img.astype(np.float32))) for img in single_stack])\n",
    "\n",
    "        image_stack = torch.from_numpy(image_stack)\n",
    "        \n",
    "        stacked_data.append(image_stack)\n",
    "        \n",
    "        stacked_labels.append(labels[start_index])\n",
    "    \n",
    "    return stacked_data, stacked_labels"
   ]
  },
  {
   "cell_type": "code",
   "execution_count": 4,
   "id": "07dda0d0",
   "metadata": {},
   "outputs": [],
   "source": [
    "def compute_score_with_logits(logits, labels):\n",
    "    logitsM = torch.max(logits, 1)[1].data # argmax\n",
    "    if device == \"mps\":\n",
    "        one_hots = torch.zeros(*labels.size()).to(device)\n",
    "    elif device == \"cuda\":\n",
    "        one_hots = torch.zeros(*labels.size()).cuda()\n",
    "    else:\n",
    "        one_hots = torch.zeros(*labels.size())\n",
    "    one_hots.scatter_(1, logitsM.view(-1, 1), 1)\n",
    "    scores = (one_hots * labels)\n",
    "\n",
    "    return scores"
   ]
  },
  {
   "cell_type": "code",
   "execution_count": 5,
   "id": "f20e0a68",
   "metadata": {},
   "outputs": [],
   "source": [
    "def tile(a, dim, n_tile):\n",
    "    init_dim = a.size(dim)\n",
    "    repeat_idx = [1] * a.dim()\n",
    "    repeat_idx[dim] = n_tile\n",
    "    a = a.repeat(*(repeat_idx))\n",
    "    order_index = torch.LongTensor(np.concatenate([init_dim * np.arange(n_tile) + i for i in range(init_dim)]))\n",
    "    return torch.index_select(a, dim, order_index)"
   ]
  },
  {
   "cell_type": "code",
   "execution_count": 6,
   "id": "d3ca60e3",
   "metadata": {},
   "outputs": [],
   "source": [
    "def create_classEncoding(classes):\n",
    "    Encoding = {}\n",
    "    for i,class_ in enumerate(classes):\n",
    "        \n",
    "        tensor_values = [0] * len(classes)\n",
    "        tensor_values[i] = 1\n",
    "        Encoding[class_] = torch.FloatTensor(tensor_values)\n",
    "\n",
    "    return Encoding"
   ]
  },
  {
   "attachments": {},
   "cell_type": "markdown",
   "id": "a1d49c9f",
   "metadata": {},
   "source": [
    "# Preprocessing"
   ]
  },
  {
   "cell_type": "code",
   "execution_count": 7,
   "id": "28c8e131",
   "metadata": {},
   "outputs": [],
   "source": [
    "class DataPreprocessing(Dataset):\n",
    "    \n",
    "    # classPaths --> className: [path, #training_samples]\n",
    "    imagesFromEachClass = eval(os.getenv(\"imagesFromEachClass\"))\n",
    "\n",
    "    classPaths = {\n",
    "    \n",
    "    'AGE_RMD': ['../../Images/CT_RETINA/AGE_RMD_55/AR1-45_9Levels/', imagesFromEachClass],\n",
    "    'CSR':     ['../../Images/CT_RETINA/CSR_102/CR1-80_9Levels/', imagesFromEachClass],\n",
    "    'DIABETR': [ '../../Images/CT_RETINA/DIABETR_107/DR1-83_9Levels/', imagesFromEachClass],\n",
    "    'MACHOLE': ['../../Images/CT_RETINA/MACHOLE_102/MH1-80_9Levels/', imagesFromEachClass],\n",
    "    'NORMAL':  ['../../Images/CT_RETINA/NORMAL_206/NR1-160_9Levels/', imagesFromEachClass] \n",
    "    \n",
    "        }\n",
    "\n",
    "    \n",
    "    def __init__(self, classPaths=classPaths):\n",
    "        \n",
    "        self.image_paths = []\n",
    "        self.labels = []\n",
    "        self.images = []\n",
    "\n",
    "        self.classes = eval(os.getenv(\"CLASSES\"))\n",
    "        self.classEncoding = create_classEncoding(self.classes)\n",
    "        self.nImLevelsData = eval(os.getenv(\"nImLevelsData\"))\n",
    "        self.downImageSize = eval(os.getenv(\"downImageSize\"))\n",
    "    \n",
    "        # image paths\n",
    "        for imCoreName in (self.classEncoding.keys()):\n",
    "            temp_paths = []\n",
    "            for directoryPath in glob.glob(classPaths[imCoreName][0]):\n",
    "                for imgPath in glob.glob(os.path.join(directoryPath, \"*.jpg\")):\n",
    "                    temp_paths.append(imgPath)\n",
    "\n",
    "\n",
    "            # labels \n",
    "            labels_list = [imCoreName] * classPaths[imCoreName][1] * self.nImLevelsData\n",
    "\n",
    "\n",
    "            for label in labels_list:\n",
    "                labelTensor = torch.FloatTensor(np.zeros(len(self.classes)))\n",
    "\n",
    "                labelTensor = labelTensor.add(self.classEncoding[label])\n",
    "                self.labels.append(labelTensor)\n",
    "\n",
    "            img_paths = temp_paths[:classPaths[imCoreName][1] * 9] \n",
    "            self.image_paths.append(img_paths)\n",
    "\n",
    "            for image_path in img_paths:\n",
    "                img = cv2.imread(image_path,0) \n",
    "                img = cv2.resize(img, (self.downImageSize, self.downImageSize), interpolation = cv2.INTER_AREA)\n",
    "                img = np.reshape(img, (*img.shape, 1))\n",
    "                img = np.transpose(img, (2, 0, 1))\n",
    "                self.images.append(img)\n",
    "              \n",
    "              \n",
    "        self.image_paths = [y for x in self.image_paths for y in x]\n",
    "        self.stacked_images, self.stacked_labels = create_image_stack(self.images, self.labels, self.nImLevelsData)  \n",
    "                \n",
    "    def __getitem__(self, index):\n",
    "        # preprocess and return single image stack of dim 8*1*224*224\n",
    "        \n",
    "        return self.stacked_images[index], self.stacked_labels[index]\n",
    "    \n",
    "    def __len__(self):\n",
    "\n",
    "        return len(self.stacked_images)"
   ]
  },
  {
   "attachments": {},
   "cell_type": "markdown",
   "id": "506e8133",
   "metadata": {},
   "source": [
    "# Model"
   ]
  },
  {
   "cell_type": "code",
   "execution_count": 8,
   "id": "4c013708",
   "metadata": {},
   "outputs": [],
   "source": [
    "class DenseNet121(nn.Module):\n",
    "    def __init__(self):\n",
    "        super(DenseNet121, self).__init__()\n",
    "\n",
    "        self.classes = eval(os.getenv(\"CLASSES\"))\n",
    "        self.model = torchvision.models.densenet121(pretrained = True)\n",
    "\n",
    "        num_ftrs = self.model.classifier.in_features\n",
    "        self.model.features[0] = nn.Conv2d(1, 64, kernel_size=7, stride=2, padding=3, bias=False)\n",
    "        self.model.classifier = nn.Sequential(\n",
    "            nn.Linear(num_ftrs, len(self.classes)),\n",
    "            nn.Sigmoid()\n",
    "        )\n",
    "        \n",
    "    def forward(self, x):\n",
    "        x = self.model(x)\n",
    "        return x"
   ]
  },
  {
   "cell_type": "code",
   "execution_count": 9,
   "id": "973eb5b7",
   "metadata": {
    "scrolled": false
   },
   "outputs": [
    {
     "name": "stderr",
     "output_type": "stream",
     "text": [
      "c:\\Users\\Temp\\AppData\\Local\\Programs\\Python\\Python39\\lib\\site-packages\\torchvision\\models\\_utils.py:208: UserWarning: The parameter 'pretrained' is deprecated since 0.13 and may be removed in the future, please use 'weights' instead.\n",
      "  warnings.warn(\n",
      "c:\\Users\\Temp\\AppData\\Local\\Programs\\Python\\Python39\\lib\\site-packages\\torchvision\\models\\_utils.py:223: UserWarning: Arguments other than a weight enum or `None` for 'weights' are deprecated since 0.13 and may be removed in the future. The current behavior is equivalent to passing `weights=DenseNet121_Weights.IMAGENET1K_V1`. You can also use `weights=DenseNet121_Weights.DEFAULT` to get the most up-to-date weights.\n",
      "  warnings.warn(msg)\n"
     ]
    }
   ],
   "source": [
    "data = DataPreprocessing()\n",
    "trainTestSplit = eval(os.getenv(\"trainTestSplit\"))\n",
    "trainShuffleFlag = eval(os.getenv(\"trainShuffleFlag\"))\n",
    "seqSplit = eval(os.getenv(\"seqSplit\"))\n",
    "\n",
    "trainSize = math.ceil(len(data) * trainTestSplit)\n",
    "testSize = math.floor(round(len(data) * (1-trainTestSplit)))\n",
    "\n",
    "if seqSplit:\n",
    "    nClasses = eval(os.getenv(\"nClasses\"))\n",
    "    trainSizePerClass = trainSize / nClasses\n",
    "    testSizePerClass = testSize / nClasses\n",
    "    imPerClass = trainSizePerClass + testSizePerClass\n",
    "\n",
    "    trainTokens = []\n",
    "    testTokens  = []\n",
    "\n",
    "    for i in range(nClasses):\n",
    "        trainTokens = np.append(trainTokens, np.arange(imPerClass*i,trainSizePerClass*(i+1)))\n",
    "        testTokens = np.append(testTokens, np.arange(imPerClass*i + trainSizePerClass ,imPerClass*(i+1))) \n",
    "\n",
    "    trainTokens = trainTokens.astype(np.int64) \n",
    "    testTokens = testTokens.astype(np.int64) \n",
    "\n",
    "    train_set = Subset(data, trainTokens)\n",
    "    test_set = Subset(data, testTokens)\n",
    "else:\n",
    "    train_set, test_set = random_split(data, [trainSize, testSize])\n",
    "\n",
    "trainloader = torch.utils.data.DataLoader(train_set, batch_size=2, shuffle=trainShuffleFlag, num_workers=0)\n",
    "testloader = torch.utils.data.DataLoader(test_set, batch_size=1, shuffle=False)\n",
    "\n",
    "if device == \"mps\":\n",
    "    model = DenseNet121().to(device)\n",
    "    model = nn.DataParallel(model).to(device)\n",
    "elif device == \"cuda\":\n",
    "    model = DenseNet121().cuda()\n",
    "    model = nn.DataParallel(model).cuda()\n",
    "else :\n",
    "    model = DenseNet121()\n",
    "    model = nn.DataParallel(model)\n"
   ]
  },
  {
   "cell_type": "code",
   "execution_count": 11,
   "id": "664ada8d",
   "metadata": {},
   "outputs": [],
   "source": [
    "training = False\n",
    "saveModel = False\n",
    "if training:\n",
    "\n",
    "    %%time\n",
    "    criterion = nn.BCELoss()\n",
    "    optimizer = optim.SGD(model.parameters(), lr=0.001, momentum=0.9)  # RMSprop, Adam\n",
    "\n",
    "    nEpochs = eval(os.getenv(\"nEpochs\"))\n",
    "    useImLevels = eval(os.getenv(\"useImLevels\"))\n",
    "\n",
    "    for epoch in range(nEpochs): #loop over the dataset multiple times\n",
    "\n",
    "        running_loss = 0.0\n",
    "        correct = 0\n",
    "        total = 0 \n",
    "        for i, (images, labels) in enumerate(trainloader, 0): # get the inputs; data is a list of [images, labels]\n",
    "\n",
    "            # zero the parameter gradients\n",
    "            optimizer.zero_grad()\n",
    "            \n",
    "            if device == \"mps\":\n",
    "                images = images.to(device)\n",
    "            elif device == \"cuda\":\n",
    "                images = images.cuda()\n",
    "        \n",
    "            #format input\n",
    "            n_batches, n_crops, channels, height, width = images.size()\n",
    "            image_batch = torch.autograd.Variable(images.view(-1, channels, height, width)) \n",
    "            \n",
    "            if device == \"mps\":\n",
    "                labels = tile(labels, 0, useImLevels).to(device) #duplicate for each crop the label \n",
    "            elif device == \"cuda\":\n",
    "                labels = tile(labels, 0, useImLevels).cuda()\n",
    "            else:\n",
    "                labels = tile(labels, 0, useImLevels)\n",
    "            \n",
    "            # forward + backward + optimize\n",
    "            outputs = model(image_batch)\n",
    "            loss = criterion(outputs, labels.float())\n",
    "            loss.backward()\n",
    "            optimizer.step()\n",
    "\n",
    "\n",
    "            running_loss += loss.item()\n",
    "\n",
    "            correct += compute_score_with_logits(outputs, labels).sum()\n",
    "            total += labels.size(0)\n",
    "\n",
    "        print('Epoch: %d, loss: %.3f, Accuracy: %.3f' %\n",
    "            (epoch + 1, running_loss, 100 * correct / total))\n",
    "\n",
    "    print('Finished Training')\n",
    "    if saveModel:\n",
    "        modelPath = os.getenv('SAVE_MODEL_PATH')\n",
    "        \n",
    "        downImageSize = os.getenv('downImageSize')\n",
    "        nClasses = os.getenv('nClasses')\n",
    "        modelFname = \"dense\" + str(nClasses) + \"class\" + str(downImageSize) + \"pix.pt\"\n",
    "        \n",
    "        torch.save(model, modelPath + modelFname)\n",
    "        \n",
    "#load the model\n",
    "else: \n",
    "    modelPath = os.getenv('SAVE_MODEL_PATH')\n",
    "\n",
    "    downImageSize = os.getenv('downImageSize')\n",
    "    nClasses = os.getenv('nClasses')\n",
    "    modelFname = \"dense\" + str(nClasses) + \"class\" + str(downImageSize) + \"pix.pt\"\n",
    "    \n",
    "    model = torch.load(modelPath + modelFname)\n"
   ]
  },
  {
   "cell_type": "code",
   "execution_count": null,
   "id": "ab7f5eac",
   "metadata": {
    "scrolled": true
   },
   "outputs": [],
   "source": [
    "#model evaluation\n",
    "model.eval()"
   ]
  },
  {
   "cell_type": "code",
   "execution_count": null,
   "id": "69071305",
   "metadata": {
    "scrolled": false
   },
   "outputs": [],
   "source": [
    "#if useCalcModel:\n",
    "#    model = torch.load('model.pth')\n",
    "correct = 0\n",
    "total = 0\n",
    "useImLevels = eval(os.getenv(\"useImLevels\"))\n",
    "\n",
    "with torch.no_grad():\n",
    "    for i, (images, labels) in enumerate(testloader, 0):\n",
    "        if device == \"mps\":\n",
    "            images = images.to(device)\n",
    "            labels = tile(labels, 0, useImLevels).to(device)\n",
    "        elif device == \"cuda\":\n",
    "            images = images.cuda()\n",
    "            labels = tile(labels, 0, useImLevels).cuda()\n",
    "        else:\n",
    "            labels = tile(labels, 0, useImLevels)\n",
    "        n_batches, n_crops, channels, height, width = images.size()\n",
    "        image_batch = torch.autograd.Variable(images.view(-1, channels, height, width))\n",
    "      \n",
    "        outputs = model(image_batch)\n",
    "        fitScore = compute_score_with_logits(outputs, labels).sum()\n",
    "        correct += fitScore.item()\n",
    "        total += labels.size(0)\n",
    "        print(i+1, fitScore.item())\n",
    "    \n",
    "print('Accuracy on test set: %.3f' % (100 * correct / total))"
   ]
  }
 ],
 "metadata": {
  "kernelspec": {
   "display_name": "Python 3 (ipykernel)",
   "language": "python",
   "name": "python3"
  },
  "language_info": {
   "codemirror_mode": {
    "name": "ipython",
    "version": 3
   },
   "file_extension": ".py",
   "mimetype": "text/x-python",
   "name": "python",
   "nbconvert_exporter": "python",
   "pygments_lexer": "ipython3",
   "version": "3.9.13"
  }
 },
 "nbformat": 4,
 "nbformat_minor": 5
}
