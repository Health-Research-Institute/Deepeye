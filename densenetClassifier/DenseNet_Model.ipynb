{
 "cells": [
  {
   "cell_type": "markdown",
   "id": "54872852",
   "metadata": {},
   "source": [
    "# DenseNet Model Implementation"
   ]
  },
  {
   "cell_type": "code",
   "execution_count": 5,
   "id": "ff0adc47",
   "metadata": {},
   "outputs": [],
   "source": [
    "import os\n",
    "import glob\n",
    "import cv2\n",
    "import math\n",
    "import numpy as np\n",
    "import pandas as pd\n",
    "import matplotlib.pyplot as plt\n",
    "import torch\n",
    "from torch.utils.data import Dataset\n",
    "from torch.utils.data import random_split\n",
    "import torch.nn as nn\n",
    "import torch.optim as optim\n",
    "import torchvision\n",
    "from torchvision import transforms\n",
    "import sklearn\n",
    "from PIL import Image\n",
    "import zipfile\n",
    "import urllib.request\n",
    "import os.path\n",
    "from IPython.display import display"
   ]
  },
  {
   "cell_type": "markdown",
   "id": "1dc7f68b",
   "metadata": {},
   "source": [
    "# Set GPU access"
   ]
  },
  {
   "cell_type": "code",
   "execution_count": 6,
   "id": "eb7c9c1d",
   "metadata": {},
   "outputs": [
    {
     "name": "stdout",
     "output_type": "stream",
     "text": [
      "MPS is available!\n",
      "MPS (Metal Performance Shader) is built in!\n",
      "Using device: mps\n"
     ]
    }
   ],
   "source": [
    "if torch.backends.mps.is_available(): # Check if PyTorch has access to MPS (Metal Performance Shader, Apple's GPU architecture)\n",
    "    print(f\"MPS is available!\")\n",
    "    if torch.backends.mps.is_built():\n",
    "        print(f\"MPS (Metal Performance Shader) is built in!\")    \n",
    "    device = \"mps\"\n",
    "elif torch.cuda.is_available():\n",
    "    device = \"cuda\"\n",
    "else:\n",
    "    device = \"cpu\"\n",
    "print(f\"Using device: {device}\")"
   ]
  },
  {
   "cell_type": "markdown",
   "id": "a449a607",
   "metadata": {},
   "source": [
    "# Helper functions"
   ]
  },
  {
   "cell_type": "code",
   "execution_count": 7,
   "id": "fd75af87",
   "metadata": {},
   "outputs": [],
   "source": [
    "def create_image_stack(images, labels):\n",
    "    \n",
    "    image_count = len(images) // 9  \n",
    "\n",
    "    stacked_data = []\n",
    "    stacked_labels = []\n",
    "\n",
    "    normalize = transforms.Normalize([0.485], [0.229]) \n",
    "\n",
    "    for i in range(image_count):\n",
    "        start_index = i * 9\n",
    "        end_index = start_index + 9\n",
    "\n",
    "        single_stack = images[start_index+1:end_index] # only 8 images without background image\n",
    "\n",
    "        image_stack = np.stack([normalize(torch.from_numpy(img.astype(np.float32))) for img in single_stack])\n",
    "\n",
    "        image_stack = torch.from_numpy(image_stack)\n",
    "        \n",
    "        stacked_data.append(image_stack)\n",
    "        \n",
    "        stacked_labels.append(labels[start_index])\n",
    "    \n",
    "    return stacked_data, stacked_labels"
   ]
  },
  {
   "cell_type": "code",
   "execution_count": 8,
   "id": "07dda0d0",
   "metadata": {},
   "outputs": [],
   "source": [
    "def compute_score_with_logits(logits, labels):\n",
    "    logits = torch.max(logits, 1)[1].data # argmax\n",
    "    if device == \"mps\":\n",
    "        one_hots = torch.zeros(*labels.size()).to(device)\n",
    "    else:\n",
    "        one_hots = torch.zeros(*labels.size()).device()\n",
    "    one_hots.scatter_(1, logits.view(-1, 1), 1)\n",
    "    scores = (one_hots * labels)\n",
    "\n",
    "    return scores"
   ]
  },
  {
   "cell_type": "code",
   "execution_count": 9,
   "id": "f20e0a68",
   "metadata": {},
   "outputs": [],
   "source": [
    "def tile(a, dim, n_tile):\n",
    "    init_dim = a.size(dim)\n",
    "    repeat_idx = [1] * a.dim()\n",
    "    repeat_idx[dim] = n_tile\n",
    "    a = a.repeat(*(repeat_idx))\n",
    "    order_index = torch.LongTensor(np.concatenate([init_dim * np.arange(n_tile) + i for i in range(init_dim)]))\n",
    "    return torch.index_select(a, dim, order_index)"
   ]
  },
  {
   "cell_type": "markdown",
   "id": "a1d49c9f",
   "metadata": {},
   "source": [
    "# Preprocessing"
   ]
  },
  {
   "cell_type": "code",
   "execution_count": 10,
   "id": "28c8e131",
   "metadata": {},
   "outputs": [],
   "source": [
    "class DataPreprocessing(Dataset):\n",
    "    \n",
    "    # classPaths --> className: [path, #training_samples]\n",
    "    classPaths = {\n",
    "    \n",
    "    'AGE_RMD':  ['../../Images/CT_RETINA/AGE_RMD_55/AR1-45_9Levels/', 40],\n",
    "    'CSR':  ['../../Images/CT_RETINA/CSR_102/CR1-80_9Levels/', 5],\n",
    "    'DIABETR': [ '../../Images/CT_RETINA/DIABETR_107/DR1-83_9Levels/', 40],\n",
    "    'MACHOLE': ['../../Images/CT_RETINA/MACHOLE_102/MH1-80_9Levels/', 40],\n",
    "    'NORMAL':  ['../../Images/CT_RETINA/NORMAL_206/NR1-160_9Levels/', 40] \n",
    "    \n",
    "        }\n",
    "\n",
    "    # classEncoding --> className: label_tensor\n",
    "    classEncoding = {\n",
    "        \n",
    "                    #change \n",
    "                    'AGE_RMD': torch.FloatTensor([1, 0, 0]),\n",
    "#                     'CSR': torch.FloatTensor([0, 1, 0, 0, 0]),\n",
    "                    'DIABETR': torch.FloatTensor([0, 1, 0]),\n",
    "#                     'MACHOLE': torch.FloatTensor([1, 0]),\n",
    "                    'NORMAL': torch.FloatTensor([ 0, 0, 1])\n",
    "\n",
    "                }\n",
    "    \n",
    "    def __init__(self,classEncoding=classEncoding, classPaths=classPaths):\n",
    "        \n",
    "        self.image_paths = []\n",
    "        self.labels = []\n",
    "        self.images = []\n",
    "    \n",
    "        # image paths\n",
    "        for imCoreName in (classEncoding.keys()):\n",
    "            temp_paths = []\n",
    "            for directoryPath in glob.glob(classPaths[imCoreName][0]):\n",
    "                for imgPath in glob.glob(os.path.join(directoryPath, \"*.jpg\")):\n",
    "                    temp_paths.append(imgPath)\n",
    "\n",
    "\n",
    "            # labels \n",
    "            labels_list = [imCoreName] * classPaths[imCoreName][1] * 9\n",
    "\n",
    "            for label in labels_list:\n",
    "                labelTensor = torch.FloatTensor([0, 0, 0])  #change\n",
    "                labelTensor = labelTensor.add(classEncoding[label])\n",
    "                self.labels.append(labelTensor)\n",
    "\n",
    "            \n",
    "            img_paths = temp_paths[:classPaths[imCoreName][1] * 9] \n",
    "            self.image_paths.append(img_paths)\n",
    "\n",
    "            for image_path in img_paths:\n",
    "                img = cv2.imread(image_path,0) \n",
    "                img = cv2.resize(img, (224, 224), interpolation = cv2.INTER_AREA)\n",
    "                img = np.reshape(img, (*img.shape, 1))\n",
    "                img = np.transpose(img, (2, 0, 1))\n",
    "                self.images.append(img)\n",
    "              \n",
    "              \n",
    "        self.image_paths = [y for x in self.image_paths for y in x]\n",
    "        self.stacked_images, self.stacked_labels = create_image_stack(self.images, self.labels)  \n",
    "\n",
    "                \n",
    "    def __getitem__(self, index):\n",
    "        # preprocess and return single image stack of dim 8*1*224*224\n",
    "        \n",
    "        return self.stacked_images[index], self.stacked_labels[index]\n",
    "    \n",
    "    def __len__(self):\n",
    "\n",
    "        return len(self.stacked_images)"
   ]
  },
  {
   "cell_type": "markdown",
   "id": "506e8133",
   "metadata": {},
   "source": [
    "# Model"
   ]
  },
  {
   "cell_type": "code",
   "execution_count": 11,
   "id": "4c013708",
   "metadata": {},
   "outputs": [],
   "source": [
    "class DenseNet121(nn.Module):\n",
    "    def __init__(self):\n",
    "        super(DenseNet121, self).__init__()\n",
    "        self.model = torchvision.models.densenet121(pretrained = True)\n",
    "        num_ftrs = self.model.classifier.in_features\n",
    "        self.model.features[0] = nn.Conv2d(1, 64, kernel_size=7, stride=2, padding=3, bias=False)\n",
    "        self.model.classifier = nn.Sequential(\n",
    "            nn.Linear(num_ftrs, 3), #change\n",
    "            nn.Sigmoid()\n",
    "        )\n",
    "        \n",
    "    def forward(self, x):\n",
    "        x = self.model(x)\n",
    "        return x"
   ]
  },
  {
   "cell_type": "code",
   "execution_count": 15,
   "id": "973eb5b7",
   "metadata": {
    "scrolled": false
   },
   "outputs": [
    {
     "ename": "ValueError",
     "evalue": "num_samples should be a positive integer value, but got num_samples=0",
     "output_type": "error",
     "traceback": [
      "\u001b[0;31m---------------------------------------------------------------------------\u001b[0m",
      "\u001b[0;31mValueError\u001b[0m                                Traceback (most recent call last)",
      "Cell \u001b[0;32mIn[15], line 4\u001b[0m\n\u001b[1;32m      1\u001b[0m data \u001b[39m=\u001b[39m DataPreprocessing()\n\u001b[1;32m      2\u001b[0m train_set, test_set \u001b[39m=\u001b[39m random_split(data, [math\u001b[39m.\u001b[39mceil(\u001b[39mlen\u001b[39m(data) \u001b[39m*\u001b[39m \u001b[39m0.8\u001b[39m), math\u001b[39m.\u001b[39mfloor(\u001b[39mlen\u001b[39m(data) \u001b[39m*\u001b[39m \u001b[39m0.2\u001b[39m)])\n\u001b[0;32m----> 4\u001b[0m trainloader \u001b[39m=\u001b[39m torch\u001b[39m.\u001b[39;49mutils\u001b[39m.\u001b[39;49mdata\u001b[39m.\u001b[39;49mDataLoader(train_set, batch_size\u001b[39m=\u001b[39;49m\u001b[39m2\u001b[39;49m, shuffle\u001b[39m=\u001b[39;49m\u001b[39mTrue\u001b[39;49;00m, num_workers\u001b[39m=\u001b[39;49m\u001b[39m3\u001b[39;49m)\n\u001b[1;32m      5\u001b[0m testloader \u001b[39m=\u001b[39m torch\u001b[39m.\u001b[39mutils\u001b[39m.\u001b[39mdata\u001b[39m.\u001b[39mDataLoader(test_set, batch_size\u001b[39m=\u001b[39m\u001b[39m1\u001b[39m, shuffle\u001b[39m=\u001b[39m\u001b[39mFalse\u001b[39;00m)\n\u001b[1;32m      7\u001b[0m \u001b[39mif\u001b[39;00m device \u001b[39m==\u001b[39m \u001b[39m\"\u001b[39m\u001b[39mmps\u001b[39m\u001b[39m\"\u001b[39m:\n",
      "File \u001b[0;32m~/Private/git/DeepEye/deepeye/lib/python3.10/site-packages/torch/utils/data/dataloader.py:351\u001b[0m, in \u001b[0;36mDataLoader.__init__\u001b[0;34m(self, dataset, batch_size, shuffle, sampler, batch_sampler, num_workers, collate_fn, pin_memory, drop_last, timeout, worker_init_fn, multiprocessing_context, generator, prefetch_factor, persistent_workers, pin_memory_device)\u001b[0m\n\u001b[1;32m    349\u001b[0m \u001b[39melse\u001b[39;00m:  \u001b[39m# map-style\u001b[39;00m\n\u001b[1;32m    350\u001b[0m     \u001b[39mif\u001b[39;00m shuffle:\n\u001b[0;32m--> 351\u001b[0m         sampler \u001b[39m=\u001b[39m RandomSampler(dataset, generator\u001b[39m=\u001b[39;49mgenerator)  \u001b[39m# type: ignore[arg-type]\u001b[39;00m\n\u001b[1;32m    352\u001b[0m     \u001b[39melse\u001b[39;00m:\n\u001b[1;32m    353\u001b[0m         sampler \u001b[39m=\u001b[39m SequentialSampler(dataset)  \u001b[39m# type: ignore[arg-type]\u001b[39;00m\n",
      "File \u001b[0;32m~/Private/git/DeepEye/deepeye/lib/python3.10/site-packages/torch/utils/data/sampler.py:107\u001b[0m, in \u001b[0;36mRandomSampler.__init__\u001b[0;34m(self, data_source, replacement, num_samples, generator)\u001b[0m\n\u001b[1;32m    103\u001b[0m     \u001b[39mraise\u001b[39;00m \u001b[39mTypeError\u001b[39;00m(\u001b[39m\"\u001b[39m\u001b[39mreplacement should be a boolean value, but got \u001b[39m\u001b[39m\"\u001b[39m\n\u001b[1;32m    104\u001b[0m                     \u001b[39m\"\u001b[39m\u001b[39mreplacement=\u001b[39m\u001b[39m{}\u001b[39;00m\u001b[39m\"\u001b[39m\u001b[39m.\u001b[39mformat(\u001b[39mself\u001b[39m\u001b[39m.\u001b[39mreplacement))\n\u001b[1;32m    106\u001b[0m \u001b[39mif\u001b[39;00m \u001b[39mnot\u001b[39;00m \u001b[39misinstance\u001b[39m(\u001b[39mself\u001b[39m\u001b[39m.\u001b[39mnum_samples, \u001b[39mint\u001b[39m) \u001b[39mor\u001b[39;00m \u001b[39mself\u001b[39m\u001b[39m.\u001b[39mnum_samples \u001b[39m<\u001b[39m\u001b[39m=\u001b[39m \u001b[39m0\u001b[39m:\n\u001b[0;32m--> 107\u001b[0m     \u001b[39mraise\u001b[39;00m \u001b[39mValueError\u001b[39;00m(\u001b[39m\"\u001b[39m\u001b[39mnum_samples should be a positive integer \u001b[39m\u001b[39m\"\u001b[39m\n\u001b[1;32m    108\u001b[0m                      \u001b[39m\"\u001b[39m\u001b[39mvalue, but got num_samples=\u001b[39m\u001b[39m{}\u001b[39;00m\u001b[39m\"\u001b[39m\u001b[39m.\u001b[39mformat(\u001b[39mself\u001b[39m\u001b[39m.\u001b[39mnum_samples))\n",
      "\u001b[0;31mValueError\u001b[0m: num_samples should be a positive integer value, but got num_samples=0"
     ]
    }
   ],
   "source": [
    "data = DataPreprocessing()\n",
    "train_set, test_set = random_split(data, [math.ceil(len(data) * 0.8), math.floor(len(data) * 0.2)])\n",
    "\n",
    "trainloader = torch.utils.data.DataLoader(train_set, batch_size=2, shuffle=True, num_workers=0)\n",
    "testloader = torch.utils.data.DataLoader(test_set, batch_size=1, shuffle=False)\n",
    "\n",
    "if device == \"mps\":\n",
    "    model = DenseNet121().to(device)\n",
    "    model = nn.DataParallel(model).to(device)\n",
    "else:\n",
    "    model = DenseNet121().device()\n",
    "    model = nn.DataParallel(model).device()"
   ]
  },
  {
   "cell_type": "code",
   "execution_count": null,
   "id": "664ada8d",
   "metadata": {},
   "outputs": [],
   "source": [
    "%%time\n",
    "\n",
    "criterion = nn.BCELoss()\n",
    "optimizer = optim.SGD(model.parameters(), lr=0.001, momentum=0.9)  # RMSprop, Adam\n",
    "\n",
    "for epoch in range(100): #loop over the dataset multiple times\n",
    "\n",
    "    running_loss = 0.0\n",
    "    correct = 0\n",
    "    total = 0 \n",
    "    for i, (images, labels) in enumerate(trainloader, 0): # get the inputs; data is a list of [images, labels]\n",
    "\n",
    "        # zero the parameter gradients\n",
    "        optimizer.zero_grad()\n",
    "        \n",
    "        if device == \"mps\":\n",
    "            images = images.to(device)\n",
    "        else\n",
    "            images = images.device()\n",
    "        #format input\n",
    "        n_batches, n_crops, channels, height, width = images.size()\n",
    "        image_batch = torch.autograd.Variable(images.view(-1, channels, height, width)) \n",
    "        \n",
    "        if device == \"mps\":\n",
    "            labels = tile(labels, 0, 8).to(device) #duplicate for each crop the label \n",
    "        else:\n",
    "            labels = tile(labels, 0, 8).device()\n",
    "        \n",
    "        # forward + backward + optimize\n",
    "        outputs = model(image_batch)\n",
    "        loss = criterion(outputs, labels.float())\n",
    "        loss.backward()\n",
    "        optimizer.step()\n",
    "\n",
    "\n",
    "        running_loss += loss.item()\n",
    "\n",
    "        correct += compute_score_with_logits(outputs, labels).sum()\n",
    "        total += labels.size(0)\n",
    "\n",
    "    print('Epoch: %d, loss: %.3f, Accuracy: %.3f' %\n",
    "          (epoch + 1, running_loss, 100 * correct / total))\n",
    "\n",
    "print('Finished Training')\n"
   ]
  },
  {
   "cell_type": "code",
   "execution_count": null,
   "id": "ab7f5eac",
   "metadata": {
    "scrolled": true
   },
   "outputs": [],
   "source": [
    "model.eval()"
   ]
  },
  {
   "cell_type": "code",
   "execution_count": null,
   "id": "69071305",
   "metadata": {
    "scrolled": false
   },
   "outputs": [],
   "source": [
    "correct = 0\n",
    "total = 0\n",
    "with torch.no_grad():\n",
    "    for i, (images, labels) in enumerate(testloader, 0):\n",
    "        if device == \"mps\":\n",
    "            images = images.to(device)\n",
    "        else:\n",
    "            images = images.device()\n",
    "        n_batches, n_crops, channels, height, width = images.size()\n",
    "        image_batch = torch.autograd.Variable(images.view(-1, channels, height, width))\n",
    "        if device == \"mps\":\n",
    "            labels = tile(labels, 0, 8).to(device)\n",
    "        else:\n",
    "            labels = tile(labels, 0, 8).device()\n",
    "        outputs = model(image_batch)\n",
    "        correct += compute_score_with_logits(outputs, labels).sum()\n",
    "        total += labels.size(0)\n",
    "    \n",
    "print('Accuracy on test set: %.3f' % (100 * correct / total))"
   ]
  }
 ],
 "metadata": {
  "kernelspec": {
   "display_name": "Python 3 (ipykernel)",
   "language": "python",
   "name": "python3"
  },
  "language_info": {
   "codemirror_mode": {
    "name": "ipython",
    "version": 3
   },
   "file_extension": ".py",
   "mimetype": "text/x-python",
   "name": "python",
   "nbconvert_exporter": "python",
   "pygments_lexer": "ipython3",
   "version": "3.10.9"
  }
 },
 "nbformat": 4,
 "nbformat_minor": 5
}
