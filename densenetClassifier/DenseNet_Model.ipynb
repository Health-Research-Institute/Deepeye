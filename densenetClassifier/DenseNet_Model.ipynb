{
 "cells": [
  {
   "cell_type": "markdown",
   "id": "54872852",
   "metadata": {},
   "source": [
    "# DenseNet Model Implementation"
   ]
  },
  {
   "cell_type": "code",
   "execution_count": null,
   "id": "ff0adc47",
   "metadata": {},
   "outputs": [],
   "source": [
    "import os\n",
    "import glob\n",
    "import cv2\n",
    "import math\n",
    "import numpy as np\n",
    "import pandas as pd\n",
    "import matplotlib.pyplot as plt\n",
    "import torch\n",
    "from torch.utils.data import Dataset\n",
    "from torch.utils.data import random_split\n",
    "import torch.nn as nn\n",
    "import torch.optim as optim\n",
    "import torchvision\n",
    "from torchvision import transforms\n",
    "from PIL import Image\n",
    "import zipfile\n",
    "import urllib.request\n",
    "import os.path\n",
    "from IPython.display import display"
   ]
  },
  {
   "cell_type": "markdown",
   "id": "a449a607",
   "metadata": {},
   "source": [
    "# Helper functions"
   ]
  },
  {
   "cell_type": "code",
   "execution_count": null,
   "id": "fd75af87",
   "metadata": {},
   "outputs": [],
   "source": [
    "def create_image_stack(images, labels):\n",
    "    \n",
    "    image_count = len(images) // 9  \n",
    "\n",
    "    stacked_data = []\n",
    "    stacked_labels = []\n",
    "\n",
    "    normalize = transforms.Normalize([0.485], [0.229]) \n",
    "\n",
    "    for i in range(image_count):\n",
    "        start_index = i * 9\n",
    "        end_index = start_index + 9\n",
    "\n",
    "        single_stack = images[start_index+1:end_index] # only 8 images without background image\n",
    "\n",
    "        image_stack = np.stack([normalize(torch.from_numpy(img.astype(np.float32))) for img in single_stack])\n",
    "\n",
    "        image_stack = torch.from_numpy(image_stack)\n",
    "        \n",
    "        stacked_data.append(image_stack)\n",
    "        \n",
    "        stacked_labels.append(labels[start_index])\n",
    "    \n",
    "    return stacked_data, stacked_labels"
   ]
  },
  {
   "cell_type": "code",
   "execution_count": null,
   "id": "07dda0d0",
   "metadata": {},
   "outputs": [],
   "source": [
    "def compute_score_with_logits(logits, labels):\n",
    "    logits = torch.max(logits, 1)[1].data # argmax\n",
    "    one_hots = torch.zeros(*labels.size()).cuda()\n",
    "    one_hots.scatter_(1, logits.view(-1, 1), 1)\n",
    "    scores = (one_hots * labels)\n",
    "\n",
    "    return scores"
   ]
  },
  {
   "cell_type": "code",
   "execution_count": null,
   "id": "f20e0a68",
   "metadata": {},
   "outputs": [],
   "source": [
    "def tile(a, dim, n_tile):\n",
    "    init_dim = a.size(dim)\n",
    "    repeat_idx = [1] * a.dim()\n",
    "    repeat_idx[dim] = n_tile\n",
    "    a = a.repeat(*(repeat_idx))\n",
    "    order_index = torch.LongTensor(np.concatenate([init_dim * np.arange(n_tile) + i for i in range(init_dim)]))\n",
    "    return torch.index_select(a, dim, order_index)"
   ]
  },
  {
   "cell_type": "markdown",
   "id": "a1d49c9f",
   "metadata": {},
   "source": [
    "# Preprocessing"
   ]
  },
  {
   "cell_type": "code",
   "execution_count": null,
   "id": "28c8e131",
   "metadata": {},
   "outputs": [],
   "source": [
    "class DataPreprocessing(Dataset):\n",
    "    \n",
    "    # classPaths --> className: [path, #training_samples]\n",
    "    classPaths = {\n",
    "    \n",
    "    'AGE_RMD':  ['../Images/CT_RETINA/AGE_RMD_55/AR1-45_9Levels/', 40],\n",
    "    'CSR':  ['../Images/CT_RETINA/CSR_102/CR1-80_9Levels/', 5],\n",
    "    'DIABETR': [ '../Images/CT_RETINA/DIABETR_107/DR1-83_9Levels/', 40],\n",
    "    'MACHOLE': ['../Images/CT_RETINA/MACHOLE_102/MH1-80_9Levels/', 40],\n",
    "    'NORMAL':  ['../Images/CT_RETINA/NORMAL_206/NR1-160_9Levels/', 40] \n",
    "    \n",
    "        }\n",
    "\n",
    "    # classEncoding --> className: label_tensor\n",
    "    classEncoding = {\n",
    "        \n",
    "                    #change \n",
    "                    'AGE_RMD': torch.FloatTensor([1, 0, 0]),\n",
    "#                     'CSR': torch.FloatTensor([0, 1, 0, 0, 0]),\n",
    "                    'DIABETR': torch.FloatTensor([0, 1, 0]),\n",
    "#                     'MACHOLE': torch.FloatTensor([1, 0]),\n",
    "                    'NORMAL': torch.FloatTensor([ 0, 0, 1])\n",
    "\n",
    "                }\n",
    "    \n",
    "    def __init__(self,classEncoding=classEncoding, classPaths=classPaths):\n",
    "        \n",
    "        self.image_paths = []\n",
    "        self.labels = []\n",
    "        self.images = []\n",
    "    \n",
    "        # image paths\n",
    "        for imCoreName in (classEncoding.keys()):\n",
    "            temp_paths = []\n",
    "            for directoryPath in glob.glob(classPaths[imCoreName][0]):\n",
    "                for imgPath in glob.glob(os.path.join(directoryPath, \"*.jpg\")):\n",
    "                    temp_paths.append(imgPath)\n",
    "\n",
    "\n",
    "            # labels \n",
    "            labels_list = [imCoreName] * classPaths[imCoreName][1] * 9\n",
    "\n",
    "            for label in labels_list:\n",
    "                labelTensor = torch.FloatTensor([0, 0, 0])  #change\n",
    "                labelTensor = labelTensor.add(classEncoding[label])\n",
    "                self.labels.append(labelTensor)\n",
    "\n",
    "            \n",
    "            img_paths = temp_paths[:classPaths[imCoreName][1] * 9] \n",
    "            self.image_paths.append(img_paths)\n",
    "\n",
    "            for image_path in img_paths:\n",
    "                img = cv2.imread(image_path,0) \n",
    "                img = cv2.resize(img, (224, 224), interpolation = cv2.INTER_AREA)\n",
    "                img = np.reshape(img, (*img.shape, 1))\n",
    "                img = np.transpose(img, (2, 0, 1))\n",
    "                self.images.append(img)\n",
    "              \n",
    "              \n",
    "        self.image_paths = [y for x in self.image_paths for y in x]\n",
    "        self.stacked_images, self.stacked_labels = create_image_stack(self.images, self.labels)  \n",
    "\n",
    "                \n",
    "    def __getitem__(self, index):\n",
    "        # preprocess and return single image stack of dim 8*1*224*224\n",
    "        \n",
    "        return self.stacked_images[index], self.stacked_labels[index]\n",
    "    \n",
    "    def __len__(self):\n",
    "\n",
    "        return len(self.stacked_images)"
   ]
  },
  {
   "cell_type": "markdown",
   "id": "506e8133",
   "metadata": {},
   "source": [
    "# Model"
   ]
  },
  {
   "cell_type": "code",
   "execution_count": null,
   "id": "4c013708",
   "metadata": {},
   "outputs": [],
   "source": [
    "class DenseNet121(nn.Module):\n",
    "    def __init__(self):\n",
    "        super(DenseNet121, self).__init__()\n",
    "        self.model = torchvision.models.densenet121(pretrained = True)\n",
    "        num_ftrs = self.model.classifier.in_features\n",
    "        self.model.features[0] = nn.Conv2d(1, 64, kernel_size=7, stride=2, padding=3, bias=False)\n",
    "        self.model.classifier = nn.Sequential(\n",
    "            nn.Linear(num_ftrs, 3), #change\n",
    "            nn.Sigmoid()\n",
    "        )\n",
    "        \n",
    "    def forward(self, x):\n",
    "        x = self.model(x)\n",
    "        return x"
   ]
  },
  {
   "cell_type": "code",
   "execution_count": null,
   "id": "973eb5b7",
   "metadata": {
    "scrolled": false
   },
   "outputs": [],
   "source": [
    "data = DataPreprocessing()\n",
    "train_set, test_set = random_split(data, [math.ceil(len(data) * 0.8), math.floor(len(data) * 0.2)])\n",
    "\n",
    "trainloader = torch.utils.data.DataLoader(train_set, batch_size=2, shuffle=True, num_workers=0)\n",
    "testloader = torch.utils.data.DataLoader(test_set, batch_size=1, shuffle=False)\n",
    "\n",
    "model = DenseNet121().cuda()\n",
    "model = nn.DataParallel(model).cuda()"
   ]
  },
  {
   "cell_type": "code",
   "execution_count": null,
   "id": "664ada8d",
   "metadata": {},
   "outputs": [],
   "source": [
    "%%time\n",
    "\n",
    "criterion = nn.BCELoss()\n",
    "optimizer = optim.SGD(model.parameters(), lr=0.001, momentum=0.9)  # RMSprop, Adam\n",
    "\n",
    "for epoch in range(10): #loop over the dataset multiple times\n",
    "\n",
    "    running_loss = 0.0\n",
    "    correct = 0\n",
    "    total = 0 \n",
    "    for i, (images, labels) in enumerate(trainloader, 0): # get the inputs; data is a list of [images, labels]\n",
    "\n",
    "        # zero the parameter gradients\n",
    "        optimizer.zero_grad()\n",
    "        \n",
    "\n",
    "        images = images.cuda()\n",
    "\n",
    "        #format input\n",
    "        n_batches, n_crops, channels, height, width = images.size()\n",
    "        image_batch = torch.autograd.Variable(images.view(-1, channels, height, width)) \n",
    "        \n",
    "        \n",
    "        labels = tile(labels, 0, 8).cuda() #duplicate for each crop the label \n",
    "        \n",
    "        # forward + backward + optimize\n",
    "        outputs = model(image_batch)\n",
    "        loss = criterion(outputs, labels.float())\n",
    "        loss.backward()\n",
    "        optimizer.step()\n",
    "\n",
    "\n",
    "        running_loss += loss.item()\n",
    "\n",
    "        correct += compute_score_with_logits(outputs, labels).sum()\n",
    "        total += labels.size(0)\n",
    "\n",
    "    print('Epoch: %d, loss: %.3f, Accuracy: %.3f' %\n",
    "          (epoch + 1, running_loss, 100 * correct / total))\n",
    "\n",
    "print('Finished Training')\n"
   ]
  },
  {
   "cell_type": "code",
   "execution_count": null,
   "id": "ab7f5eac",
   "metadata": {
    "scrolled": true
   },
   "outputs": [],
   "source": [
    "model.eval()"
   ]
  },
  {
   "cell_type": "code",
   "execution_count": null,
   "id": "69071305",
   "metadata": {
    "scrolled": false
   },
   "outputs": [],
   "source": [
    "correct = 0\n",
    "total = 0\n",
    "with torch.no_grad():\n",
    "    for i, (images, labels) in enumerate(testloader, 0):\n",
    "        images = images.cuda()\n",
    "        n_batches, n_crops, channels, height, width = images.size()\n",
    "        image_batch = torch.autograd.Variable(images.view(-1, channels, height, width))\n",
    "        labels = tile(labels, 0, 8).cuda()\n",
    "        outputs = model(image_batch)\n",
    "        correct += compute_score_with_logits(outputs, labels).sum()\n",
    "        total += labels.size(0)\n",
    "    \n",
    "print('Accuracy on test set: %.3f' % (100 * correct / total))"
   ]
  },
  {
   "cell_type": "code",
   "execution_count": null,
   "id": "67d74468",
   "metadata": {},
   "outputs": [],
   "source": []
  },
  {
   "cell_type": "code",
   "execution_count": null,
   "id": "08579b3a",
   "metadata": {},
   "outputs": [],
   "source": []
  },
  {
   "cell_type": "code",
   "execution_count": null,
   "id": "e6d49cb6",
   "metadata": {},
   "outputs": [],
   "source": []
  },
  {
   "cell_type": "code",
   "execution_count": null,
   "id": "b37d0541",
   "metadata": {},
   "outputs": [],
   "source": []
  },
  {
   "cell_type": "code",
   "execution_count": null,
   "id": "e017c132",
   "metadata": {},
   "outputs": [],
   "source": []
  },
  {
   "cell_type": "code",
   "execution_count": null,
   "id": "9d9db56a",
   "metadata": {},
   "outputs": [],
   "source": []
  }
 ],
 "metadata": {
  "kernelspec": {
   "display_name": "Python 3 (ipykernel)",
   "language": "python",
   "name": "python3"
  },
  "language_info": {
   "codemirror_mode": {
    "name": "ipython",
    "version": 3
   },
   "file_extension": ".py",
   "mimetype": "text/x-python",
   "name": "python",
   "nbconvert_exporter": "python",
   "pygments_lexer": "ipython3",
   "version": "3.9.12"
  }
 },
 "nbformat": 4,
 "nbformat_minor": 5
}
